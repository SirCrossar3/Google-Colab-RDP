{
  "nbformat": 4,
  "nbformat_minor": 0,
  "metadata": {
    "colab": {
      "name": "RDP.ipynb",
      "provenance": []
    },
    "kernelspec": {
      "name": "python3",
      "display_name": "Python 3"
    }
  },
  "cells": [
    {
      "cell_type": "code",
      "metadata": {
        "colab": {
          "base_uri": "https://localhost:8080/"
        },
        "id": "60bh-kbablCV",
        "outputId": "52d91fa1-9bfd-41a5-c027-f5f874090fd5"
      },
      "source": [
        "! wget https://raw.githubusercontent.com/explorerfaketimepass/Google-Colab-RDP/main/RDP.sh &> /dev/null\r\n",
        "! chmod +x RDP.sh\r\n",
        "! ./RDP.sh"
      ],
      "execution_count": 1,
      "outputs": [
        {
          "output_type": "stream",
          "text": [
            "Installing RDP Be Patience... \n",
            "Setup Complete \n",
            "Check https://remotedesktop.google.com/headless  Copy Command Of Debian Linux And Paste Down\n",
            "Paste Here: DISPLAY= /opt/google/chrome-remote-desktop/start-host --code=\"4/0AY0e-g63wlQGltKtGlWH516yEI0toYggQq20uwdvuxlLA2ce-Cegy-hi_xVfqoe6oRDdPA\" --redirect-url=\"https://remotedesktop.google.com/_/oauthredirect\" --name=$(hostname)\n",
            "Enter a PIN of at least six digits: \n",
            "Enter the same PIN again: \n",
            "[0105/121228.696991:ERROR:cert_verify_proc_builtin.cc(559)] No net_fetcher for performing AIA chasing.\n",
            "[0105/121228.732602:WARNING:host_config.cc(54)] Failed to read /home/HARSHAL/.config/chrome-remote-desktop/host#512ffd5d60f16d01c04d49e2d890da0f.json\n",
            "[0105/121228.831422:ERROR:cert_verify_proc_builtin.cc(559)] No net_fetcher for performing AIA chasing.\n",
            "[0105/121229.366682:INFO:daemon_controller_delegate_linux.cc(99)] 2021-01-05 12:12:29,355:INFO:User 'HARSHAL' is already a member of 'chrome-remote-desktop'.\n",
            "\n",
            "[0105/121231.062059:INFO:daemon_controller_delegate_linux.cc(99)] [0105/121229.475134:INFO:remoting_user_session.cc(754)] Daemon process started in the background, logging to '/tmp/chrome_remote_desktop_20210105_121229_nV7qUI'\n",
            "Using host_id: e5426458-64c7-4197-80f5-6b1a17ff534a\n",
            "Launching X server and X session.\n",
            "Starting Xvfb on display :20\n",
            "X server is active.\n",
            "Launching X session: ['/bin/sh', '/etc/chrome-remote-desktop-session']\n",
            "Launching host process\n",
            "['/opt/google/chrome-remote-desktop/chrome-remote-desktop-host', '--host-config=-', '--audio-pipe-name=/home/HARSHAL/.config/chrome-remote-desktop/pulseaudio#512ffd5d60/fifo_output', '--server-supports-exact-resize', '--ssh-auth-sockname=/tmp/chromoting.HARSHAL.ssh_auth_sock', '--signal-parent']\n",
            "Host ready to receive connections.\n",
            "Log file: /tmp/chrome_remote_desktop_20210105_121229_nV7qUI\n",
            "\n",
            "Check https://remotedesktop.google.com/access/ \n",
            "\n",
            "\n",
            "\n",
            "Upgrade Completed \n",
            "\n",
            "Root password is 0000 "
          ],
          "name": "stdout"
        }
      ]
    }
  ]
}